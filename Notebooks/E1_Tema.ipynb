{
  "cells": [
    {
      "attachments": {},
      "cell_type": "markdown",
      "metadata": {
        "id": "wwEwaKIMf47W"
      },
      "source": [
        "# Primera entrega ML"
      ]
    },
    {
      "attachments": {},
      "cell_type": "markdown",
      "metadata": {
        "id": "wncgQg2Jf47a"
      },
      "source": [
        "### Título de proyecto"
      ]
    },
    {
      "cell_type": "code",
      "execution_count": null,
      "metadata": {
        "id": "Zv1fjGsgf47b"
      },
      "outputs": [],
      "source": [
        "# Escribir el título de proyecto en Markdown\n",
        "titulo = \"Optimización del Rendimiento Laboral: Un Enfoque de Machine Learning en Recursos Humanos\""
      ]
    },
    {
      "attachments": {},
      "cell_type": "markdown",
      "metadata": {
        "id": "5Ax7zf8-f47d"
      },
      "source": [
        "### Tema"
      ]
    },
    {
      "cell_type": "code",
      "execution_count": null,
      "metadata": {
        "id": "nEUi0r3Cf47d"
      },
      "outputs": [],
      "source": [
        "# Breve descripción del proyecto\n",
        "tema = \"Empleo de Machine Learning en el ámbito de Recursos Humanos para optimizar el rendimiento laboral de los empleados. Se trata de utilizar datos previamente analizados  para crear un modelo predictivo que permita a los profesionales tomar decisiones más informadas y estratégicas en la gestión del talento humano.\" "
      ]
    },
    {
      "cell_type": "code",
      "execution_count": null,
      "metadata": {
        "id": "JqRjdCTRf47d"
      },
      "outputs": [],
      "source": [
        "# Describir el tema en Markdown "
      ]
    },
    {
      "attachments": {},
      "cell_type": "markdown",
      "metadata": {
        "id": "tVXEyA-Ef47e"
      },
      "source": [
        "En un entorno empresarial altamente competitivo, la eficiencia y el rendimiento de los empleados son cruciales para el éxito de una organización. Sin embargo, la gestión de recursos humanos a menudo se basa en decisiones subjetivas o enfoques tradicionales. Este proyecto busca transformar la gestión de Recursos Humanos utilizando el poder de los datos y el Machine Learning.\n",
        "\n",
        "El enfoque comienza con un exhaustivo Análisis Exploratorio de Datos (EDA) que examina las relaciones entre diversas variables, como la edad, la relación con los supervisores, la colaboración entre compañeros, etc. Este análisis proporciona información valiosa sobre qué factores pueden estar influyendo en el rendimiento de los empleados.\n",
        "\n",
        "Luego, se avanza hacia la creación y entrenamiento de un modelo de Machine Learning. Este modelo se basa en los patrones y relaciones identificados durante el EDA y tiene como objetivo predecir el rendimiento laboral futuro de los empleados. Esto permite a Recursos Humanos identificar de manera proactiva a aquellos empleados que podrían necesitar apoyo adicional o desarrollo.\n",
        "\n",
        "En última instancia, este proyecto busca ayudar a las organizaciones a retener y aprovechar al máximo su talento humano, mejorando el rendimiento laboral, reduciendo la rotación y brindando una ventaja competitiva en un mercado laboral dinámico. El enfoque de Machine Learning proporciona una forma cuantitativa y basada en datos de abordar los desafíos de la gestión de recursos humanos en la era digital."
      ]
    },
    {
      "attachments": {},
      "cell_type": "markdown",
      "metadata": {
        "id": "QmsGhxWpf47e"
      },
      "source": [
        "### Datasets y fuentes alternativas de datos\n",
        "Incluye aquí una breve descripción del dataset o datasets para tu proyecto. Incluye también las fuentes de cada uno de ellos."
      ]
    },
    {
      "cell_type": "code",
      "execution_count": null,
      "metadata": {
        "id": "fjE67sLIf47f"
      },
      "outputs": [],
      "source": [
        "tipo_ml = \"Regresión\"\n",
        "target_descr = \"Rendimiento laboral futuro\"\n",
        "metricas = [\"\"Error absoluto medio (MAE)\", \"Error cuadrado medio (MSE)\", \"Coeficiente de determinación (R²)\"\"] "
      ]
    },
    {
      "attachments": {},
      "cell_type": "markdown",
      "metadata": {},
      "source": [
        "## Dasets y enlaces de datasets en Markdown\n",
        "enlaces = [\"https://www.kaggle.com/datasets/gladdenme/factory-workers-daily-performance-attrition-s?resource=download\"]"
      ]
    },
    {
      "cell_type": "code",
      "execution_count": 1,
      "metadata": {
        "id": "MQG74aD_f47g"
      },
      "outputs": [
        {
          "name": "stderr",
          "output_type": "stream",
          "text": [
            "/var/folders/gn/fdryr4k17t95s1_9lf01ghfw0000gn/T/ipykernel_91030/1978448362.py:5: DtypeWarning: Columns (35,38) have mixed types. Specify dtype option on import or set low_memory=False.\n",
            "  df = pd.read_csv(\"EDA.csv\", encoding='latin1')\n"
          ]
        },
        {
          "data": {
            "text/html": [
              "<div>\n",
              "<style scoped>\n",
              "    .dataframe tbody tr th:only-of-type {\n",
              "        vertical-align: middle;\n",
              "    }\n",
              "\n",
              "    .dataframe tbody tr th {\n",
              "        vertical-align: top;\n",
              "    }\n",
              "\n",
              "    .dataframe thead th {\n",
              "        text-align: right;\n",
              "    }\n",
              "</style>\n",
              "<table border=\"1\" class=\"dataframe\">\n",
              "  <thead>\n",
              "    <tr style=\"text-align: right;\">\n",
              "      <th></th>\n",
              "      <th>sub_ID</th>\n",
              "      <th>sub_fname</th>\n",
              "      <th>sub_lname</th>\n",
              "      <th>sub_age</th>\n",
              "      <th>sub_sex</th>\n",
              "      <th>sub_shift</th>\n",
              "      <th>sub_team</th>\n",
              "      <th>sub_role</th>\n",
              "      <th>sub_coll_IDs</th>\n",
              "      <th>sub_colls_same_sex_prtn</th>\n",
              "      <th>...</th>\n",
              "      <th>event_weekday_num</th>\n",
              "      <th>event_weekday_name</th>\n",
              "      <th>behav_comptype_h</th>\n",
              "      <th>behav_cause_h</th>\n",
              "      <th>actual_efficacy_h</th>\n",
              "      <th>record_comptype</th>\n",
              "      <th>record_cause</th>\n",
              "      <th>recorded_efficacy</th>\n",
              "      <th>recorded_note_from_sup</th>\n",
              "      <th>record_conf_matrix_h</th>\n",
              "    </tr>\n",
              "  </thead>\n",
              "  <tbody>\n",
              "    <tr>\n",
              "      <th>0</th>\n",
              "      <td>98000001</td>\n",
              "      <td>Rebecca</td>\n",
              "      <td>Bauer</td>\n",
              "      <td>40</td>\n",
              "      <td>F</td>\n",
              "      <td>Shift 1</td>\n",
              "      <td>Team 1</td>\n",
              "      <td>Team Leader</td>\n",
              "      <td>[98000002, 98000003, 98000004, 98000005, 98000...</td>\n",
              "      <td>0.714286</td>\n",
              "      <td>...</td>\n",
              "      <td>4</td>\n",
              "      <td>Friday</td>\n",
              "      <td>Presence</td>\n",
              "      <td>NaN</td>\n",
              "      <td>NaN</td>\n",
              "      <td>Presence</td>\n",
              "      <td>NaN</td>\n",
              "      <td>NaN</td>\n",
              "      <td>NaN</td>\n",
              "      <td>NaN</td>\n",
              "    </tr>\n",
              "    <tr>\n",
              "      <th>1</th>\n",
              "      <td>98000001</td>\n",
              "      <td>Rebecca</td>\n",
              "      <td>Bauer</td>\n",
              "      <td>40</td>\n",
              "      <td>F</td>\n",
              "      <td>Shift 1</td>\n",
              "      <td>Team 1</td>\n",
              "      <td>Team Leader</td>\n",
              "      <td>[98000002, 98000003, 98000004, 98000005, 98000...</td>\n",
              "      <td>0.714286</td>\n",
              "      <td>...</td>\n",
              "      <td>4</td>\n",
              "      <td>Friday</td>\n",
              "      <td>Efficacy</td>\n",
              "      <td>NaN</td>\n",
              "      <td>1.489</td>\n",
              "      <td>Efficacy</td>\n",
              "      <td>NaN</td>\n",
              "      <td>1.2</td>\n",
              "      <td>NaN</td>\n",
              "      <td>NaN</td>\n",
              "    </tr>\n",
              "    <tr>\n",
              "      <th>2</th>\n",
              "      <td>98000002</td>\n",
              "      <td>Joan</td>\n",
              "      <td>Winter</td>\n",
              "      <td>61</td>\n",
              "      <td>F</td>\n",
              "      <td>Shift 1</td>\n",
              "      <td>Team 2</td>\n",
              "      <td>Team Leader</td>\n",
              "      <td>[98000001, 98000003, 98000004, 98000005, 98000...</td>\n",
              "      <td>0.714286</td>\n",
              "      <td>...</td>\n",
              "      <td>4</td>\n",
              "      <td>Friday</td>\n",
              "      <td>Presence</td>\n",
              "      <td>NaN</td>\n",
              "      <td>NaN</td>\n",
              "      <td>Presence</td>\n",
              "      <td>NaN</td>\n",
              "      <td>NaN</td>\n",
              "      <td>NaN</td>\n",
              "      <td>NaN</td>\n",
              "    </tr>\n",
              "    <tr>\n",
              "      <th>3</th>\n",
              "      <td>98000002</td>\n",
              "      <td>Joan</td>\n",
              "      <td>Winter</td>\n",
              "      <td>61</td>\n",
              "      <td>F</td>\n",
              "      <td>Shift 1</td>\n",
              "      <td>Team 2</td>\n",
              "      <td>Team Leader</td>\n",
              "      <td>[98000001, 98000003, 98000004, 98000005, 98000...</td>\n",
              "      <td>0.714286</td>\n",
              "      <td>...</td>\n",
              "      <td>4</td>\n",
              "      <td>Friday</td>\n",
              "      <td>Efficacy</td>\n",
              "      <td>NaN</td>\n",
              "      <td>1.023</td>\n",
              "      <td>Efficacy</td>\n",
              "      <td>NaN</td>\n",
              "      <td>0.8</td>\n",
              "      <td>NaN</td>\n",
              "      <td>NaN</td>\n",
              "    </tr>\n",
              "    <tr>\n",
              "      <th>4</th>\n",
              "      <td>98000003</td>\n",
              "      <td>Elizabeth</td>\n",
              "      <td>Martinez</td>\n",
              "      <td>20</td>\n",
              "      <td>F</td>\n",
              "      <td>Shift 1</td>\n",
              "      <td>Team 3</td>\n",
              "      <td>Team Leader</td>\n",
              "      <td>[98000001, 98000002, 98000004, 98000005, 98000...</td>\n",
              "      <td>0.714286</td>\n",
              "      <td>...</td>\n",
              "      <td>4</td>\n",
              "      <td>Friday</td>\n",
              "      <td>Presence</td>\n",
              "      <td>NaN</td>\n",
              "      <td>NaN</td>\n",
              "      <td>Presence</td>\n",
              "      <td>NaN</td>\n",
              "      <td>NaN</td>\n",
              "      <td>NaN</td>\n",
              "      <td>NaN</td>\n",
              "    </tr>\n",
              "  </tbody>\n",
              "</table>\n",
              "<p>5 rows × 42 columns</p>\n",
              "</div>"
            ],
            "text/plain": [
              "     sub_ID  sub_fname sub_lname  sub_age sub_sex sub_shift sub_team   \n",
              "0  98000001    Rebecca     Bauer       40       F   Shift 1   Team 1  \\\n",
              "1  98000001    Rebecca     Bauer       40       F   Shift 1   Team 1   \n",
              "2  98000002       Joan    Winter       61       F   Shift 1   Team 2   \n",
              "3  98000002       Joan    Winter       61       F   Shift 1   Team 2   \n",
              "4  98000003  Elizabeth  Martinez       20       F   Shift 1   Team 3   \n",
              "\n",
              "      sub_role                                       sub_coll_IDs   \n",
              "0  Team Leader  [98000002, 98000003, 98000004, 98000005, 98000...  \\\n",
              "1  Team Leader  [98000002, 98000003, 98000004, 98000005, 98000...   \n",
              "2  Team Leader  [98000001, 98000003, 98000004, 98000005, 98000...   \n",
              "3  Team Leader  [98000001, 98000003, 98000004, 98000005, 98000...   \n",
              "4  Team Leader  [98000001, 98000002, 98000004, 98000005, 98000...   \n",
              "\n",
              "   sub_colls_same_sex_prtn  ...  event_weekday_num  event_weekday_name   \n",
              "0                 0.714286  ...                  4              Friday  \\\n",
              "1                 0.714286  ...                  4              Friday   \n",
              "2                 0.714286  ...                  4              Friday   \n",
              "3                 0.714286  ...                  4              Friday   \n",
              "4                 0.714286  ...                  4              Friday   \n",
              "\n",
              "   behav_comptype_h  behav_cause_h  actual_efficacy_h  record_comptype   \n",
              "0          Presence            NaN                NaN         Presence  \\\n",
              "1          Efficacy            NaN              1.489         Efficacy   \n",
              "2          Presence            NaN                NaN         Presence   \n",
              "3          Efficacy            NaN              1.023         Efficacy   \n",
              "4          Presence            NaN                NaN         Presence   \n",
              "\n",
              "   record_cause  recorded_efficacy recorded_note_from_sup   \n",
              "0           NaN                NaN                    NaN  \\\n",
              "1           NaN                1.2                    NaN   \n",
              "2           NaN                NaN                    NaN   \n",
              "3           NaN                0.8                    NaN   \n",
              "4           NaN                NaN                    NaN   \n",
              "\n",
              "   record_conf_matrix_h  \n",
              "0                   NaN  \n",
              "1                   NaN  \n",
              "2                   NaN  \n",
              "3                   NaN  \n",
              "4                   NaN  \n",
              "\n",
              "[5 rows x 42 columns]"
            ]
          },
          "execution_count": 1,
          "metadata": {},
          "output_type": "execute_result"
        }
      ],
      "source": [
        "# load dataset\n",
        "\n",
        "import pandas as pd\n",
        "\n",
        "df = pd.read_csv(\"EDA.csv\", encoding='latin1')\n",
        "\n",
        "# df_1.head()\n",
        "\n",
        "df.head()"
      ]
    }
  ],
  "metadata": {
    "colab": {
      "provenance": []
    },
    "interpreter": {
      "hash": "7c77fdb427e7cbc9bc1367dd530fc2b36aacdbbde1ac83c85833b10dfa8b831c"
    },
    "kernelspec": {
      "display_name": "Python 3.7.4 64-bit",
      "language": "python",
      "name": "python3"
    },
    "language_info": {
      "codemirror_mode": {
        "name": "ipython",
        "version": 3
      },
      "file_extension": ".py",
      "mimetype": "text/x-python",
      "name": "python",
      "nbconvert_exporter": "python",
      "pygments_lexer": "ipython3",
      "version": "3.9.5"
    },
    "orig_nbformat": 4
  },
  "nbformat": 4,
  "nbformat_minor": 0
}
